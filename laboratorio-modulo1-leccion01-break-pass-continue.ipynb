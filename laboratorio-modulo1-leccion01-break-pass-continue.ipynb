{
 "cells": [
  {
   "cell_type": "markdown",
   "metadata": {},
   "source": [
    "\n",
    "<div style=\"text-align: center;\">\n",
    "  <img src=\"https://github.com/Hack-io-Data/Imagenes/blob/main/01-LogosHackio/logo_celeste@4x.png?raw=true\" alt=\"esquema\" />\n",
    "</div>\n"
   ]
  },
  {
   "cell_type": "markdown",
   "metadata": {},
   "source": [
    "# Laboratorio de Python: break(), pass(), continue()"
   ]
  },
  {
   "cell_type": "markdown",
   "metadata": {},
   "source": [
    "## Ejercicio 1: Validación de datos numéricos. \n",
    "\n",
    "Escribe un bucle que lea una lista de números y detenga la ejecución si encuentra un valor negativo. Muestra un mensaje indicando el número negativo encontrado.\n"
   ]
  },
  {
   "cell_type": "code",
   "execution_count": 1,
   "metadata": {},
   "outputs": [
    {
     "name": "stdout",
     "output_type": "stream",
     "text": [
      "Numeros [1, 3, -1, 8, 3, 4, 0, 1]\n",
      "El numero -1 es negativo\n"
     ]
    }
   ],
   "source": [
    "\"\"\"\n",
    "Este programa itera a través de una lista de números y verifica si hay algún número negativo. Si encuentra un número negativo, imprime un mensaje indicando que el número es negativo y finaliza la iteración.\n",
    "\n",
    "El programa realiza lo siguiente:\n",
    "1. Define una lista de números llamada `numeros`.\n",
    "2. Imprime la lista de números.\n",
    "3. Utiliza un bucle `for` para iterar sobre cada número en la lista.\n",
    "4. Dentro del bucle, verifica si el número es negativo:\n",
    "   - Si encuentra un número negativo, imprime un mensaje que indica cuál es el número negativo y utiliza `break` para salir del bucle, deteniendo cualquier iteración adicional.\n",
    "\"\"\"\n",
    "\n",
    "numeros = [1, 3, -1, 8, 3, 4, 0, 1]\n",
    "print(\"Numeros\", numeros)\n",
    "\n",
    "for n in numeros: \n",
    "    if n < 0:\n",
    "        print(f\"El numero {n} es negativo\")\n",
    "        break\n",
    "    "
   ]
  },
  {
   "cell_type": "markdown",
   "metadata": {},
   "source": [
    "\n",
    "## Ejercicio 2: Filtrado de datos\n",
    "\n",
    "Escribe un bucle que imprima los números de una lista, pero que omita los números pares.\n"
   ]
  },
  {
   "cell_type": "code",
   "execution_count": 1,
   "metadata": {},
   "outputs": [
    {
     "name": "stdout",
     "output_type": "stream",
     "text": [
      "Numeros [2, 3, -1, 8, 3, 4, 0, 1]\n",
      "El numero 3 es impar\n",
      "El numero -1 es impar\n",
      "El numero 3 es impar\n",
      "El numero 1 es impar\n"
     ]
    }
   ],
   "source": [
    "\"\"\"\n",
    "Este programa itera a través de una lista de números y verifica cuáles son impares. Si un número es par, lo omite y continúa con el siguiente número; si es impar, imprime un mensaje indicando que el número es impar.\n",
    "\n",
    "El programa realiza lo siguiente:\n",
    "1. Define una lista de números llamada `numeros`.\n",
    "2. Imprime la lista de números.\n",
    "3. Utiliza un bucle `for` para iterar sobre cada número en la lista.\n",
    "4. Dentro del bucle, verifica si el número es par:\n",
    "   - Si el número es par (n % 2 == 0), utiliza `continue` para omitir la impresión de ese número y pasar al siguiente número en la lista.\n",
    "   - Si el número es impar, imprime un mensaje indicando que el número es impar.\n",
    "\"\"\"\n",
    "\n",
    "numeros = [2, 3, -1, 8, 3, 4, 0, 1]\n",
    "print(\"Numeros\", numeros)\n",
    "\n",
    "for n in numeros: \n",
    "    if n % 2 ==0:\n",
    "        continue\n",
    "    else:\n",
    "        print(f\"El numero {n} es impar\")"
   ]
  },
  {
   "cell_type": "markdown",
   "metadata": {},
   "source": [
    "## Ejercicio 3: Búsqueda de un valor\n",
    "\n",
    "Escribe un programa que busque un valor específico en una lista y detenga la búsqueda cuando lo encuentre. Si se encuentra, muestra un mensaje.\n"
   ]
  },
  {
   "cell_type": "code",
   "execution_count": 4,
   "metadata": {},
   "outputs": [
    {
     "name": "stdout",
     "output_type": "stream",
     "text": [
      "Numeros [2, 3, -1, 8, 3, 4, 0, 1]\n",
      "Valor a buscar 8\n",
      "El numero 8 es el buscado\n"
     ]
    }
   ],
   "source": [
    "\"\"\"\n",
    "Este programa busca un número específico en una lista de números y, si lo encuentra, imprime un mensaje indicando que el número buscado ha sido encontrado, finalizando la búsqueda.\n",
    "\n",
    "El programa realiza lo siguiente:\n",
    "1. Define una lista de números llamada `numeros`.\n",
    "2. Imprime la lista de números.\n",
    "3. Define el número a buscar (`valor_especifico`).\n",
    "4. Imprime el valor que se está buscando.\n",
    "5. Utiliza un bucle `for` para iterar sobre cada número en la lista.\n",
    "6. Dentro del bucle, verifica si el número actual es igual al `valor_especifico`:\n",
    "   - Si se encuentra el número, imprime un mensaje indicando que el número buscado ha sido encontrado y utiliza `break` para salir del bucle, deteniendo cualquier iteración adicional.\n",
    "\"\"\"\n",
    "\n",
    "numeros = [2, 3, -1, 8, 3, 4, 0, 1]\n",
    "print(\"Numeros\", numeros)\n",
    "\n",
    "#numero a buscar\n",
    "valor_especifico = 8\n",
    "print(\"Valor a buscar\", valor_especifico)\n",
    "\n",
    "for n in numeros: \n",
    "    if n == valor_especifico:\n",
    "        print(f\"El numero {n} es el buscado\")\n",
    "        break"
   ]
  },
  {
   "cell_type": "markdown",
   "metadata": {},
   "source": [
    "## Ejercicio 4: Estructura de código incompleto\n",
    "\n",
    "Define una función que aún no tenga lógica implementada, pero que se pueda ejecutar sin errores utilizando `pass`."
   ]
  },
  {
   "cell_type": "code",
   "execution_count": 5,
   "metadata": {},
   "outputs": [],
   "source": [
    "\"\"\"\n",
    "Este programa define una función llamada `funcion_a_implementar`, que actualmente no implementa ninguna lógica y se usa para mostrar cómo se puede definir y llamar a una función con diferentes tipos de argumentos.\n",
    "\n",
    "El programa realiza lo siguiente:\n",
    "1. Define la función `funcion_a_implementar(valor)` que acepta un argumento `valor`. Actualmente, la función no realiza ninguna operación porque se utiliza `pass`.\n",
    "2. Llama a `funcion_a_implementar(1)`, pasando un número entero como argumento.\n",
    "3. Llama a `funcion_a_implementar(\"abc\")`, pasando una cadena de texto como argumento.\n",
    "\n",
    "El propósito de este programa es servir como un esqueleto básico para implementar la lógica deseada en la función `funcion_a_implementar` en el futuro.\n",
    "\"\"\"\n",
    "\n",
    "def funcion_a_implementar(valor):\n",
    "    pass\n",
    "\n",
    "funcion_a_implementar(1)\n",
    "funcion_a_implementar(\"abc\")\n"
   ]
  },
  {
   "cell_type": "markdown",
   "metadata": {},
   "source": [
    "## Ejercicio 5: Validación condicional\n",
    "\n",
    "Escribe un bucle que verifique una lista de nombres. Si encuentra un nombre vacío (cadena vacía), salta esa iteración y continúa con los demás nombres.\n"
   ]
  },
  {
   "cell_type": "code",
   "execution_count": 6,
   "metadata": {},
   "outputs": [
    {
     "name": "stdout",
     "output_type": "stream",
     "text": [
      "nombres ['juan', 'pepe', '', 'santi']\n",
      "El nombre es juan\n",
      "El nombre es pepe\n",
      "El nombre es santi\n"
     ]
    }
   ],
   "source": [
    "\"\"\"\n",
    "Este programa itera a través de una lista de nombres y imprime cada nombre que no está vacío. Si encuentra un nombre vacío, lo omite y continúa con el siguiente.\n",
    "\n",
    "El programa realiza lo siguiente:\n",
    "1. Define una lista de nombres llamada `nombres`, que incluye nombres y una cadena vacía.\n",
    "2. Imprime la lista de nombres.\n",
    "3. Utiliza un bucle `for` para iterar sobre cada nombre en la lista.\n",
    "4. Dentro del bucle, verifica si el nombre está vacío:\n",
    "   - Si el nombre está vacío (`not n`), utiliza `continue` para omitir la impresión de ese nombre y pasar al siguiente.\n",
    "   - Si el nombre no está vacío, imprime un mensaje indicando que el nombre es el actual.\n",
    "\n",
    "Este programa es útil para filtrar y mostrar solo los nombres válidos de una lista que puede contener entradas vacías.\n",
    "\"\"\"\n",
    "\n",
    "nombres = [\"juan\", \"pepe\", \"\", \"santi\"]\n",
    "print(\"nombres\", nombres)\n",
    "\n",
    "for n in nombres: \n",
    "    if not n:\n",
    "        continue\n",
    "    else:\n",
    "        print(f\"El nombre es {n}\")"
   ]
  },
  {
   "cell_type": "markdown",
   "metadata": {},
   "source": [
    "## Ejercicio 6: Búsqueda de claves en un diccionario\n",
    "\n",
    "Escribe un programa que recorra un diccionario y detenga la búsqueda si encuentra una clave específica pasada por el usuario.\n"
   ]
  },
  {
   "cell_type": "code",
   "execution_count": 1,
   "metadata": {},
   "outputs": [
    {
     "name": "stdout",
     "output_type": "stream",
     "text": [
      "nombre encontrado juan\n"
     ]
    }
   ],
   "source": [
    "\"\"\"\n",
    "Este programa solicita al usuario que introduzca un nombre y busca ese nombre en un diccionario predefinido. Si encuentra el nombre, imprime un mensaje indicando que el nombre ha sido encontrado.\n",
    "\n",
    "El programa realiza lo siguiente:\n",
    "1. Solicita al usuario que introduzca un nombre a través de la función `input()`.\n",
    "2. Define un diccionario llamado `dict` que contiene identificadores como claves y listas de nombres como valores.\n",
    "3. Utiliza un bucle `for` para iterar sobre los elementos del diccionario:\n",
    "   - Cada elemento se descompone en una clave (`k`) y un valor (`v`), donde `v` es una lista de nombres.\n",
    "   - Verifica si el primer nombre en la lista (`v[0]`) coincide con el nombre introducido por el usuario (`x`).\n",
    "   - Si encuentra una coincidencia, imprime un mensaje que indica que el nombre ha sido encontrado y utiliza `break` para salir del bucle, deteniendo cualquier búsqueda adicional.\n",
    "\n",
    "Este programa es útil para buscar un nombre en una lista de nombres almacenados en un diccionario.\n",
    "\"\"\"\n",
    "\n",
    "x = input('introduce un nombre:')\n",
    "\n",
    "dict = {1: [\"juan\",\"rodriguez\"], 2: [\"antonio\",\"perez\"]}\n",
    "for k, v in dict.items():\n",
    "    if v[0] == x:\n",
    "        print(\"nombre encontrado\", v[0])\n",
    "        break"
   ]
  },
  {
   "cell_type": "markdown",
   "metadata": {},
   "source": [
    "## Ejercicio 7: Bucle con múltiples excepciones\n",
    "\n",
    "Escribe un bucle que procese una lista de operaciones matemáticas, omitiendo las operaciones que intenten dividir por cero.\n"
   ]
  },
  {
   "cell_type": "code",
   "execution_count": 14,
   "metadata": {},
   "outputs": [
    {
     "name": "stdout",
     "output_type": "stream",
     "text": [
      "operaciones ['division', 'sumar', 'resta', 'multiplicacion']\n",
      "division resultado 1.0\n",
      "sumar resultado 10\n",
      "resta resultado 0\n",
      "multiplicacion resultado 25\n"
     ]
    }
   ],
   "source": [
    "\"\"\"\n",
    "Este programa realiza varias operaciones aritméticas (suma, resta, multiplicación y división) entre dos números ingresados por el usuario, utilizando un bucle para iterar sobre las operaciones disponibles.\n",
    "\n",
    "El programa realiza lo siguiente:\n",
    "1. Define una lista de operaciones llamada `operaciones`, que incluye \"division\", \"sumar\", \"resta\" y \"multiplicacion\".\n",
    "2. Solicita al usuario que introduzca el primer número (`valor`) y el segundo número (`valorDivision`) a través de la función `input()`, convirtiendo las entradas a enteros.\n",
    "3. Inicializa una variable `resultado` en 0 para almacenar el resultado de las operaciones.\n",
    "4. Utiliza un bloque `try` para manejar excepciones:\n",
    "   - Itera sobre la lista `operaciones`:\n",
    "     - Si la operación es \"division\", verifica si `valorDivision` no es cero para evitar una división por cero. Si es válida, realiza la división y muestra el resultado.\n",
    "     - Si la operación es \"sumar\", realiza la suma y muestra el resultado.\n",
    "     - Si la operación es \"resta\", realiza la resta y muestra el resultado.\n",
    "     - Si la operación es \"multiplicacion\", realiza la multiplicación y muestra el resultado.\n",
    "5. Maneja excepciones específicas:\n",
    "   - Captura `ZeroDivisionError` y muestra un mensaje que indica que no se puede dividir por cero.\n",
    "   - Captura cualquier otro error general y muestra un mensaje de error.\n",
    "\n",
    "Este programa es útil para demostrar el manejo de errores y la realización de operaciones aritméticas básicas.\n",
    "\"\"\"\n",
    "\n",
    "operaciones = [\"division\", \"sumar\", \"resta\", \"multiplicacion\"]\n",
    "print(\"operaciones\", operaciones)\n",
    "\n",
    "valor = int(input('introduce el primer numero:'))\n",
    "valorDivision = int(input('introduce el segundo numero:'))\n",
    "\n",
    "resultado = 0\n",
    "\n",
    "try:\n",
    "    for n in operaciones:\n",
    "        if n == \"division\":\n",
    "            if valorDivision != 0:\n",
    "                resultado = valor / valorDivision\n",
    "                print(\"division resultado\",resultado)\n",
    "        elif n == \"sumar\":\n",
    "            resultado = valor + valorDivision\n",
    "            print(\"sumar resultado\",resultado)\n",
    "        elif n == \"resta\":\n",
    "            resultado = valor - valorDivision\n",
    "            print(\"resta resultado\",resultado)\n",
    "        elif n == \"multiplicacion\":\n",
    "            resultado = valor * valorDivision\n",
    "            print(\"multiplicacion resultado\",resultado)            \n",
    "\n",
    "except ZeroDivisionError:\n",
    "    print (\"no se puede dividir por 0\")\n",
    "\n",
    "except:\n",
    "    print (\"Error General\")\n",
    "\n"
   ]
  },
  {
   "cell_type": "markdown",
   "metadata": {},
   "source": [
    "## Ejercicio 8: Búsqueda en una lista anidada\n",
    "\n",
    "Escribe un programa que recorra una lista de listas y detenga la búsqueda cuando encuentre un valor mayor a 50.\n"
   ]
  },
  {
   "cell_type": "code",
   "execution_count": 4,
   "metadata": {},
   "outputs": [
    {
     "name": "stdout",
     "output_type": "stream",
     "text": [
      "[(25, 11, 1999), (1, 89, 5)]\n",
      "el valor del numero es: 25\n",
      "el valor del numero es: 11\n",
      "el valor del numero es: 1999\n",
      "Rompemos el bucle\n"
     ]
    }
   ],
   "source": [
    "\"\"\"\n",
    "Este programa itera a través de una lista de tuplas que contienen números, imprime cada número y verifica si alguno de ellos es mayor que 50. Si encuentra un número mayor que 50, imprime un mensaje y rompe el bucle.\n",
    "\n",
    "El programa realiza lo siguiente:\n",
    "1. Define una lista de tuplas llamada `numeros`, donde cada tupla contiene tres números.\n",
    "2. Imprime la lista de números.\n",
    "3. Utiliza un bloque `try` para manejar excepciones:\n",
    "   - Inicializa una variable `break_bucle` como `False` para controlar cuándo se debe romper el bucle.\n",
    "   - Utiliza un bucle `for` para iterar sobre cada tupla `n` en la lista `numeros`.\n",
    "     - Si `break_bucle` es `True`, utiliza `break` para salir del bucle exterior.\n",
    "     - Si no, utiliza otro bucle `for` para iterar sobre cada número `x` en la tupla `n`:\n",
    "       - Imprime el valor del número actual.\n",
    "       - Si `x` es mayor que 50, imprime un mensaje indicando que se romperá el bucle, establece `break_bucle` en `True` y utiliza `break` para salir del bucle interior.\n",
    "4. Captura cualquier excepción general y muestra un mensaje de error.\n",
    "\n",
    "Este programa es útil para demostrar el uso de bucles anidados, condiciones y el manejo de excepciones.\n",
    "\"\"\"\n",
    "\n",
    "numeros=[(25, 11, 1999),(1, 89, 5)]\n",
    "\n",
    "print(numeros)\n",
    "try:\n",
    "    break_bucle = False\n",
    "    for n in numeros:\n",
    "      if break_bucle == True:\n",
    "        break\n",
    "      else:  \n",
    "        for x in n:\n",
    "            print(f\"el valor del numero es: {x}\")\n",
    "            if x > 50:\n",
    "                print(f\"Rompemos el bucle\")\n",
    "                break_bucle = True\n",
    "                break\n",
    "\n",
    "except:\n",
    "    print (\"Error General\")\n"
   ]
  },
  {
   "cell_type": "markdown",
   "metadata": {},
   "source": [
    "## Ejercicio 9: Evaluación de series temporales\n",
    "\n",
    "Escribe un programa que recorra una lista de datos de series temporales y se detenga si encuentra un valor atípico (mayor a 100).\n"
   ]
  },
  {
   "cell_type": "code",
   "execution_count": 7,
   "metadata": {},
   "outputs": [
    {
     "name": "stdout",
     "output_type": "stream",
     "text": [
      "[1, 2, 3, 78, 45, 56, 100, 101, 89, 56]\n",
      "1\n",
      "2\n",
      "3\n",
      "78\n",
      "45\n",
      "56\n",
      "100\n",
      "101\n",
      "Rompemos el bucle el valor es mayor que 100\n"
     ]
    }
   ],
   "source": [
    "\"\"\"\n",
    "Este programa itera a través de una lista de números llamada `temporal`, imprime cada número y verifica si alguno de ellos es mayor que 100. Si encuentra un número mayor que 100, imprime un mensaje y rompe el bucle.\n",
    "\n",
    "El programa realiza lo siguiente:\n",
    "1. Define una lista de números llamada `temporal`.\n",
    "2. Imprime la lista de números.\n",
    "3. Utiliza un bloque `try` para manejar excepciones:\n",
    "   - Utiliza un bucle `for` para iterar sobre cada número `n` en la lista `temporal`.\n",
    "     - Imprime el valor del número actual.\n",
    "     - Si `n` es mayor que 100, imprime un mensaje indicando que se romperá el bucle y utiliza `break` para salir del bucle.\n",
    "4. Captura cualquier excepción general y muestra un mensaje de error.\n",
    "\n",
    "Este programa es útil para demostrar la iteración sobre una lista y la condición de ruptura del bucle cuando se encuentra un número que excede un cierto umbral.\n",
    "\"\"\"\n",
    "\n",
    "temporal=[1,2,3,78,45,56,100,101,89,56]\n",
    "\n",
    "print(temporal)\n",
    "try:\n",
    "    for n in temporal:\n",
    "        print(n)\n",
    "        if n > 100:\n",
    "            print(f\"Rompemos el bucle el valor es mayor que 100\")\n",
    "            break\n",
    "except:\n",
    "    print (\"Error General\")"
   ]
  },
  {
   "cell_type": "markdown",
   "metadata": {},
   "source": [
    "## Ejercicio 10: Iteración con valores faltantes\n",
    "\n",
    "Crea un bucle que recorra una lista de datos de ventas y salte los valores faltantes representados por `None`."
   ]
  },
  {
   "cell_type": "code",
   "execution_count": 9,
   "metadata": {},
   "outputs": [
    {
     "name": "stdout",
     "output_type": "stream",
     "text": [
      "[1, 2, 3, None, 45, 56, None, 101, 89, 56]\n",
      "1\n",
      "2\n",
      "3\n",
      "45\n",
      "56\n",
      "101\n",
      "89\n",
      "56\n"
     ]
    }
   ],
   "source": [
    "\"\"\"\n",
    "Este programa itera a través de una lista llamada `datos_ventas`, que contiene números y valores `None`. El objetivo es imprimir solo los números, omitiendo cualquier valor `None` presente en la lista.\n",
    "\n",
    "El programa realiza lo siguiente:\n",
    "1. Define una lista de datos de ventas llamada `datos_ventas`, que incluye números y valores `None`.\n",
    "2. Imprime la lista de datos de ventas.\n",
    "3. Utiliza un bloque `try` para manejar excepciones:\n",
    "   - Utiliza un bucle `for` para iterar sobre cada elemento `n` en la lista `datos_ventas`.\n",
    "     - Si `n` es igual a `None`, utiliza `continue` para omitir la impresión de ese valor y continuar con el siguiente elemento.\n",
    "     - Si `n` no es `None`, imprime el valor de `n`.\n",
    "4. Captura cualquier excepción general y muestra un mensaje de error.\n",
    "\n",
    "Este programa es útil para filtrar y mostrar solo los valores válidos de una lista que puede contener entradas `None`.\n",
    "\"\"\"\n",
    "\n",
    "datos_ventas=[1,2,3,None,45,56,None,101,89,56]\n",
    "\n",
    "print(datos_ventas)\n",
    "try:\n",
    "    for n in datos_ventas:\n",
    "        if n == None:\n",
    "            continue\n",
    "        else:\n",
    "            print(n)\n",
    "except:\n",
    "    print (\"Error General\")"
   ]
  },
  {
   "cell_type": "markdown",
   "metadata": {},
   "source": [
    "## Ejercicio 11: Control de flujo en bucles anidados\n",
    "\n",
    "Escribe un bucle que recorra la matriz dada y se detenga si se encuentra un número negativo, mostrando su posición.\n",
    "\n"
   ]
  },
  {
   "cell_type": "code",
   "execution_count": 10,
   "metadata": {},
   "outputs": [
    {
     "name": "stdout",
     "output_type": "stream",
     "text": [
      "[[8, 14, 8], [12, 3, 4], [-11, 3, 21]]\n",
      "array:  2 posicion:  0\n",
      "Elemento en matriz: -11\n"
     ]
    }
   ],
   "source": [
    "\"\"\"\n",
    "Este programa itera a través de una matriz (lista de listas) y busca el primer elemento negativo. Si encuentra un elemento negativo, imprime su posición en la matriz y el valor del elemento.\n",
    "\n",
    "El programa realiza lo siguiente:\n",
    "1. Define una matriz llamada `matriz`, que es una lista de listas, cada una conteniendo números enteros.\n",
    "2. Imprime la matriz.\n",
    "3. Inicializa una variable `condicion` como `False` para controlar cuándo se debe romper el bucle.\n",
    "4. Utiliza un bucle `for` para iterar a través de las filas de la matriz usando `range(len(matriz))`:\n",
    "   - Si `condicion` es `True`, utiliza `break` para salir del bucle exterior.\n",
    "   - Si no, utiliza otro bucle `for` para iterar sobre los elementos `x` en la fila actual `matriz[i]`:\n",
    "     - Obtiene la posición del elemento actual usando `index(x)`.\n",
    "     - Si `x` es negativo, imprime la fila (`i`) y la posición del elemento en la fila. También imprime el valor del elemento en la matriz.\n",
    "     - Establece `condicion` en `True` y utiliza `break` para salir del bucle interior, deteniendo la búsqueda de más elementos negativos.\n",
    "\n",
    "Este programa es útil para identificar la ubicación del primer elemento negativo en una matriz.\n",
    "\"\"\"\n",
    "\n",
    "matriz =  [[8, 14, 8], [12, 3, 4], [-11, 3, 21]]\n",
    "\n",
    "print(matriz)\n",
    "condicion = False\n",
    "\n",
    "for i in range(len(matriz)):\n",
    "    if condicion == True:\n",
    "        break\n",
    "    else:\n",
    "        for x in matriz[i]:\n",
    "            posicion = matriz[i].index(x)\n",
    "            if x < 0:\n",
    "                print(\"array: \", i, \"posicion: \", posicion)\n",
    "                print(f\"Elemento en matriz: {matriz[i][posicion]}\")\n",
    "                condicion = True\n",
    "                break\n"
   ]
  },
  {
   "cell_type": "markdown",
   "metadata": {},
   "source": [
    "## Ejercicio 12: Placeholder para funciones incompletas\n",
    "\n",
    "Escribe una función que tenga un bloque de control que aún no esté implementado, utilizando `pass` para que no genere errores."
   ]
  },
  {
   "cell_type": "code",
   "execution_count": 11,
   "metadata": {},
   "outputs": [],
   "source": [
    "\"\"\"\n",
    "Este programa define una función llamada `funcion_placeholder`, que utiliza un `pass` para indicar que no se implementa ninguna lógica en el cuerpo de la función, independientemente de si se proporciona un valor verdadero o falso.\n",
    "\n",
    "El programa realiza lo siguiente:\n",
    "1. Define la función `funcion_placeholder(valor)` que acepta un argumento `valor`.\n",
    "   - Si `valor` es verdadero (es decir, no es `None`, `0`, `False`, o una cadena vacía), el cuerpo de la función utiliza `pass`, lo que significa que no se realiza ninguna acción.\n",
    "   - Si `valor` es falso, también se utiliza `pass`, indicando que no se ejecuta ninguna lógica en este caso.\n",
    "2. Llama a `funcion_placeholder(1)`, pasando un número entero que se considera verdadero.\n",
    "3. Llama a `funcion_placeholder(\"abc\")`, pasando una cadena de texto que también se considera verdadera.\n",
    "\n",
    "Este programa es útil como un esquema básico para implementar lógica en la función `funcion_placeholder` en el futuro.\n",
    "\"\"\"\n",
    "\n",
    "def funcion_placeholder(valor):\n",
    "    if valor:\n",
    "        pass\n",
    "    else:\n",
    "        pass\n",
    "\n",
    "funcion_placeholder(1)\n",
    "funcion_placeholder(\"abc\")"
   ]
  }
 ],
 "metadata": {
  "kernelspec": {
   "display_name": "contenido",
   "language": "python",
   "name": "python3"
  },
  "language_info": {
   "codemirror_mode": {
    "name": "ipython",
    "version": 3
   },
   "file_extension": ".py",
   "mimetype": "text/x-python",
   "name": "python",
   "nbconvert_exporter": "python",
   "pygments_lexer": "ipython3",
   "version": "3.12.5"
  }
 },
 "nbformat": 4,
 "nbformat_minor": 2
}
