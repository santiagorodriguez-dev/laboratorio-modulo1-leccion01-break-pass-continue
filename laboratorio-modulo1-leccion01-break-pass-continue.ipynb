{
 "cells": [
  {
   "cell_type": "markdown",
   "metadata": {},
   "source": [
    "\n",
    "<div style=\"text-align: center;\">\n",
    "  <img src=\"https://github.com/Hack-io-Data/Imagenes/blob/main/01-LogosHackio/logo_celeste@4x.png?raw=true\" alt=\"esquema\" />\n",
    "</div>\n"
   ]
  },
  {
   "cell_type": "markdown",
   "metadata": {},
   "source": [
    "# Laboratorio de Python: break(), pass(), continue()"
   ]
  },
  {
   "cell_type": "markdown",
   "metadata": {},
   "source": [
    "## Ejercicio 1: Validación de datos numéricos. \n",
    "\n",
    "Escribe un bucle que lea una lista de números y detenga la ejecución si encuentra un valor negativo. Muestra un mensaje indicando el número negativo encontrado.\n"
   ]
  },
  {
   "cell_type": "code",
   "execution_count": 1,
   "metadata": {},
   "outputs": [
    {
     "name": "stdout",
     "output_type": "stream",
     "text": [
      "Numeros [1, 3, -1, 8, 3, 4, 0, 1]\n",
      "El numero -1 es negativo\n"
     ]
    }
   ],
   "source": [
    "numeros = [1, 3, -1, 8, 3, 4, 0, 1]\n",
    "print(\"Numeros\", numeros)\n",
    "\n",
    "for n in numeros: \n",
    "    if n < 0:\n",
    "        print(f\"El numero {n} es negativo\")\n",
    "        break\n",
    "    "
   ]
  },
  {
   "cell_type": "markdown",
   "metadata": {},
   "source": [
    "\n",
    "## Ejercicio 2: Filtrado de datos\n",
    "\n",
    "Escribe un bucle que imprima los números de una lista, pero que omita los números pares.\n"
   ]
  },
  {
   "cell_type": "code",
   "execution_count": 2,
   "metadata": {},
   "outputs": [
    {
     "name": "stdout",
     "output_type": "stream",
     "text": [
      "Numeros [2, 3, -1, 8, 3, 4, 0, 1]\n",
      "El numero 2 es impar\n",
      "El numero 8 es impar\n",
      "El numero 4 es impar\n",
      "El numero 0 es impar\n"
     ]
    }
   ],
   "source": [
    "numeros = [2, 3, -1, 8, 3, 4, 0, 1]\n",
    "print(\"Numeros\", numeros)\n",
    "\n",
    "for n in numeros: \n",
    "    if n % 2:\n",
    "        continue\n",
    "    else:\n",
    "        print(f\"El numero {n} es impar\")"
   ]
  },
  {
   "cell_type": "markdown",
   "metadata": {},
   "source": [
    "## Ejercicio 3: Búsqueda de un valor\n",
    "\n",
    "Escribe un programa que busque un valor específico en una lista y detenga la búsqueda cuando lo encuentre. Si se encuentra, muestra un mensaje.\n"
   ]
  },
  {
   "cell_type": "code",
   "execution_count": 4,
   "metadata": {},
   "outputs": [
    {
     "name": "stdout",
     "output_type": "stream",
     "text": [
      "Numeros [2, 3, -1, 8, 3, 4, 0, 1]\n",
      "Valor a buscar 8\n",
      "El numero 8 es el buscado\n"
     ]
    }
   ],
   "source": [
    "numeros = [2, 3, -1, 8, 3, 4, 0, 1]\n",
    "print(\"Numeros\", numeros)\n",
    "\n",
    "#numero a buscar\n",
    "valor_especifico = 8\n",
    "print(\"Valor a buscar\", valor_especifico)\n",
    "\n",
    "for n in numeros: \n",
    "    if n == valor_especifico:\n",
    "        print(f\"El numero {n} es el buscado\")\n",
    "        break"
   ]
  },
  {
   "cell_type": "markdown",
   "metadata": {},
   "source": [
    "## Ejercicio 4: Estructura de código incompleto\n",
    "\n",
    "Define una función que aún no tenga lógica implementada, pero que se pueda ejecutar sin errores utilizando `pass`."
   ]
  },
  {
   "cell_type": "code",
   "execution_count": 5,
   "metadata": {},
   "outputs": [],
   "source": [
    "def funcion_a_implementar(valor):\n",
    "    pass\n",
    "\n",
    "funcion_a_implementar(1)\n",
    "funcion_a_implementar(\"abc\")\n"
   ]
  },
  {
   "cell_type": "markdown",
   "metadata": {},
   "source": [
    "## Ejercicio 5: Validación condicional\n",
    "\n",
    "Escribe un bucle que verifique una lista de nombres. Si encuentra un nombre vacío (cadena vacía), salta esa iteración y continúa con los demás nombres.\n"
   ]
  },
  {
   "cell_type": "code",
   "execution_count": 6,
   "metadata": {},
   "outputs": [
    {
     "name": "stdout",
     "output_type": "stream",
     "text": [
      "nombres ['juan', 'pepe', '', 'santi']\n",
      "El nombre es juan\n",
      "El nombre es pepe\n",
      "El nombre es santi\n"
     ]
    }
   ],
   "source": [
    "nombres = [\"juan\", \"pepe\", \"\", \"santi\"]\n",
    "print(\"nombres\", nombres)\n",
    "\n",
    "for n in nombres: \n",
    "    if not n:\n",
    "        continue\n",
    "    else:\n",
    "        print(f\"El nombre es {n}\")"
   ]
  },
  {
   "cell_type": "markdown",
   "metadata": {},
   "source": [
    "## Ejercicio 6: Búsqueda de claves en un diccionario\n",
    "\n",
    "Escribe un programa que recorra un diccionario y detenga la búsqueda si encuentra una clave específica pasada por el usuario.\n"
   ]
  },
  {
   "cell_type": "code",
   "execution_count": 13,
   "metadata": {},
   "outputs": [
    {
     "name": "stdout",
     "output_type": "stream",
     "text": [
      "nombre encontrado juan\n"
     ]
    }
   ],
   "source": [
    "x = input('introduce un nombre:')\n",
    "\n",
    "dict = {1: [\"juan\",\"rodriguez\"], 2: [\"antonio\",\"perez\"]}\n",
    "for k, v in dict.items():\n",
    "    if v[0] == x:\n",
    "        print(\"nombre encontrado\", v[0])\n",
    "        break"
   ]
  },
  {
   "cell_type": "markdown",
   "metadata": {},
   "source": [
    "## Ejercicio 7: Bucle con múltiples excepciones\n",
    "\n",
    "Escribe un bucle que procese una lista de operaciones matemáticas, omitiendo las operaciones que intenten dividir por cero.\n"
   ]
  },
  {
   "cell_type": "code",
   "execution_count": 18,
   "metadata": {},
   "outputs": [
    {
     "name": "stdout",
     "output_type": "stream",
     "text": [
      "operaciones ['division', 'sumar', 'resta', 'multiplicacion']\n",
      "resultado 2.0\n"
     ]
    }
   ],
   "source": [
    "operaciones = [\"division\", \"sumar\", \"resta\", \"multiplicacion\"]\n",
    "print(\"operaciones\", operaciones)\n",
    "\n",
    "valor = int(input('numero a dividir:'))\n",
    "valorDivision = int(input('valor a dividir:'))\n",
    "\n",
    "resultado = 0\n",
    "\n",
    "try:\n",
    "    for n in operaciones:\n",
    "        if n == \"division\":\n",
    "            if valorDivision != 0:\n",
    "                resultado = valor / valorDivision\n",
    "                print(\"resultado\",resultado)\n",
    "\n",
    "except ZeroDivisionError:\n",
    "    print (\"no se puede dividir por 0\")\n",
    "\n",
    "except:\n",
    "    print (\"Error General\")\n",
    "\n"
   ]
  },
  {
   "cell_type": "markdown",
   "metadata": {},
   "source": [
    "## Ejercicio 8: Búsqueda en una lista anidada\n",
    "\n",
    "Escribe un programa que recorra una lista de listas y detenga la búsqueda cuando encuentre un valor mayor a 50.\n"
   ]
  },
  {
   "cell_type": "code",
   "execution_count": null,
   "metadata": {},
   "outputs": [],
   "source": [
    "empleado=[\"juan\", 53, (25, 11, 1999)]"
   ]
  },
  {
   "cell_type": "markdown",
   "metadata": {},
   "source": [
    "## Ejercicio 9: Evaluación de series temporales\n",
    "\n",
    "Escribe un programa que recorra una lista de datos de series temporales y se detenga si encuentra un valor atípico (mayor a 100).\n"
   ]
  },
  {
   "cell_type": "code",
   "execution_count": null,
   "metadata": {},
   "outputs": [],
   "source": []
  },
  {
   "cell_type": "markdown",
   "metadata": {},
   "source": [
    "## Ejercicio 10: Iteración con valores faltantes\n",
    "\n",
    "Crea un bucle que recorra una lista de datos de ventas y salte los valores faltantes representados por `None`."
   ]
  },
  {
   "cell_type": "code",
   "execution_count": null,
   "metadata": {},
   "outputs": [],
   "source": []
  },
  {
   "cell_type": "markdown",
   "metadata": {},
   "source": [
    "## Ejercicio 11: Control de flujo en bucles anidados\n",
    "\n",
    "Escribe un bucle que recorra la matriz dada y se detenga si se encuentra un número negativo, mostrando su posición.\n",
    "\n"
   ]
  },
  {
   "cell_type": "code",
   "execution_count": null,
   "metadata": {},
   "outputs": [],
   "source": []
  },
  {
   "cell_type": "markdown",
   "metadata": {},
   "source": [
    "## Ejercicio 12: Placeholder para funciones incompletas\n",
    "\n",
    "Escribe una función que tenga un bloque de control que aún no esté implementado, utilizando `pass` para que no genere errores."
   ]
  },
  {
   "cell_type": "code",
   "execution_count": null,
   "metadata": {},
   "outputs": [],
   "source": []
  }
 ],
 "metadata": {
  "kernelspec": {
   "display_name": "contenido",
   "language": "python",
   "name": "python3"
  },
  "language_info": {
   "codemirror_mode": {
    "name": "ipython",
    "version": 3
   },
   "file_extension": ".py",
   "mimetype": "text/x-python",
   "name": "python",
   "nbconvert_exporter": "python",
   "pygments_lexer": "ipython3",
   "version": "3.12.5"
  }
 },
 "nbformat": 4,
 "nbformat_minor": 2
}
